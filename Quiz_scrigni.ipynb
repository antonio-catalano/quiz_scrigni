{
 "cells": [
  {
   "cell_type": "markdown",
   "metadata": {},
   "source": [
    "# Bisogna capire dove è l'oro, con la condizione che <u>solo una delle tre affermazioni è vera</u>."
   ]
  },
  {
   "cell_type": "markdown",
   "metadata": {},
   "source": [
    "
      quiz_scrigni/quiz.png
    "
   ]
  },
  {
   "cell_type": "markdown",
   "metadata": {},
   "source": [
    "<b> La risposta è abbastanza semplice e ci si arriva tranquillamente con la logica. <br>\n",
    "    Questo pero' solo perche' ci sono tre oggetti. Con molti oggetti molto complicato rispondere solo con la logica.<br>\n",
    "    Trattiamo quindi il problema in termini di programmazione.<br>\n",
    "    Possiamo costruire una matrice dove ogni riga è una proposizione che dice qualcosa a proposito dei 3 scrigni.</b>\n",
    "> La proposizione generera' un numero, rispettivamente:\n",
    "* -1 se afferma che l'oro non è presente nello scrigno\n",
    "* 0 se non si pronuncia sulla presenza o meno dell'oro nello scrigno\n",
    "* 1 se afferma che l'oro è presente nello scrigno"
   ]
  },
  {
   "cell_type": "code",
   "execution_count": 40,
   "metadata": {},
   "outputs": [],
   "source": [
    "import numpy as np, pandas as pd, matplotlib.pyplot as plt"
   ]
  },
  {
   "cell_type": "code",
   "execution_count": 85,
   "metadata": {},
   "outputs": [],
   "source": [
    "one = {'A':-1, 'B':0, 'C':0}\n",
    "two = {'A':0, 'B':-1, 'C':0}\n",
    "three = {'A':-1, 'B':1, 'C':-1}\n",
    "matrice = pd.DataFrame({'Proposition 1' : one, 'Proposition 2' : two, 'Proposition 3' : three})\n",
    "#matrice = matrice.reindex(columns=['one','two','three'])"
   ]
  },
  {
   "cell_type": "code",
   "execution_count": 89,
   "metadata": {},
   "outputs": [
    {
     "data": {
      "text/html": [
       "<div>\n",
       "<style scoped>\n",
       "    .dataframe tbody tr th:only-of-type {\n",
       "        vertical-align: middle;\n",
       "    }\n",
       "\n",
       "    .dataframe tbody tr th {\n",
       "        vertical-align: top;\n",
       "    }\n",
       "\n",
       "    .dataframe thead th {\n",
       "        text-align: right;\n",
       "    }\n",
       "</style>\n",
       "<table border=\"1\" class=\"dataframe\">\n",
       "  <thead>\n",
       "    <tr style=\"text-align: right;\">\n",
       "      <th></th>\n",
       "      <th>A</th>\n",
       "      <th>B</th>\n",
       "      <th>C</th>\n",
       "    </tr>\n",
       "  </thead>\n",
       "  <tbody>\n",
       "    <tr>\n",
       "      <th>Proposition 1</th>\n",
       "      <td>-1</td>\n",
       "      <td>0</td>\n",
       "      <td>0</td>\n",
       "    </tr>\n",
       "    <tr>\n",
       "      <th>Proposition 2</th>\n",
       "      <td>0</td>\n",
       "      <td>-1</td>\n",
       "      <td>0</td>\n",
       "    </tr>\n",
       "    <tr>\n",
       "      <th>Proposition 3</th>\n",
       "      <td>-1</td>\n",
       "      <td>1</td>\n",
       "      <td>-1</td>\n",
       "    </tr>\n",
       "  </tbody>\n",
       "</table>\n",
       "</div>"
      ],
      "text/plain": [
       "               A  B  C\n",
       "Proposition 1 -1  0  0\n",
       "Proposition 2  0 -1  0\n",
       "Proposition 3 -1  1 -1"
      ]
     },
     "execution_count": 89,
     "metadata": {},
     "output_type": "execute_result"
    }
   ],
   "source": [
    "matrice.T"
   ]
  },
  {
   "cell_type": "markdown",
   "metadata": {},
   "source": [
    "Osservando la matrice costruita sopra: <br>\n",
    "ad esempio, la seconda proposizione afferma che l'oro non è nello scrigno numero B (quindi -1) ma non dice niente riguardo alla presenza di oro negli scrigni A e B (quindi 0 ad entrambi).\n",
    "    La proposizione numero 3 invece afferma che l'oro è nello scrigno numero B (quindi 1), e quindi allo stesso tempo afferma anche che l'oro non si trova ne' in A ne' in B (quindi -1 ad entrambi)."
   ]
  },
  {
   "cell_type": "markdown",
   "metadata": {},
   "source": [
    "Creiamo una lista, dove per ogni colonna (scrigno), ci tiene il conto di quante proposizioni coerenti (vere) ci sono:<br>\n",
    "Esempio: mettiamo caso che l'oro si trovi nello scrigno (colonna) A. \n",
    "E' come se quindi tutta la colonna A fosse virtualmente pari ad 1 (perche' l'oro si trova li).\n",
    "La prima affermazione, riguardo ad A, dice che l'oro non si trova in A (-1). E' quindi falsa.<br>\n",
    "La seconda affermazione, riguardo ad A, non dice nulla. Quindi si astiene. <u>Non</u> è falsa riguardo ad A.<br>\n",
    "La terza affermazione, riguardo ad A, dice che l'oro non si trova in A (perche' dice che si trova in B). E' quindi falsa.<br>\n",
    "<b> La risposta corretta al quesito infatti è proprio lo scrigno A.</b><br>\n",
    "<u>La lista delle risposte coerenti (vere) al termine del codice di sotto è proprio [1,2,2].<br>\n",
    "Cioe' se l'oro fosse presente nello scrigno B o nello scrigno C, ci sarebbero due proposizioni vere, mentre la condizione iniziale è che solo una è vera.</u>"
   ]
  },
  {
   "cell_type": "code",
   "execution_count": 106,
   "metadata": {},
   "outputs": [],
   "source": [
    "true_list = []\n",
    "for chest in df.columns:\n",
    "    right_answer = 0\n",
    "    for proposition in ['one','two','three']:\n",
    "        if df.loc[proposition, chest] == 0 or df.loc[proposition, chest] == 1: #la risposta è vera se il valore è 1 o 0, altrimenti è falsa\n",
    "            right_answer += 1\n",
    "    true_list.append(right)\n",
    "true_propositions_for_chest = {i:c for i,c in zip('ABC', right_list)}"
   ]
  },
  {
   "cell_type": "code",
   "execution_count": 107,
   "metadata": {},
   "outputs": [
    {
     "data": {
      "text/plain": [
       "{'A': 1, 'B': 2, 'C': 2}"
      ]
     },
     "execution_count": 107,
     "metadata": {},
     "output_type": "execute_result"
    }
   ],
   "source": [
    "true_propositions_for_chest"
   ]
  },
  {
   "cell_type": "code",
   "execution_count": null,
   "metadata": {},
   "outputs": [],
   "source": []
  }
 ],
 "metadata": {
  "kernelspec": {
   "display_name": "Python 3",
   "language": "python",
   "name": "python3"
  },
  "language_info": {
   "codemirror_mode": {
    "name": "ipython",
    "version": 3
   },
   "file_extension": ".py",
   "mimetype": "text/x-python",
   "name": "python",
   "nbconvert_exporter": "python",
   "pygments_lexer": "ipython3",
   "version": "3.6.4"
  }
 },
 "nbformat": 4,
 "nbformat_minor": 2
}
